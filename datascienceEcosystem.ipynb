{
 "cells": [
  {
   "cell_type": "markdown",
   "id": "28c029ca-8903-44df-b9e6-246b2479bef7",
   "metadata": {},
   "source": [
    "Data Science Tools and Ecosystem"
   ]
  },
  {
   "cell_type": "markdown",
   "id": "f8fab454-1a7f-4156-814c-303e5591a43a",
   "metadata": {},
   "source": [
    "In this notebook, Data Science Tools and Ecosystem are summarized.\n",
    "\n",
    "Objectives:\n",
    "\n",
    "- List popular languages that Data Scientists use.\n",
    "- List commonly used libraries used by Data Scientists.\n",
    "- Comment on Data Science tools."
   ]
  },
  {
   "cell_type": "markdown",
   "id": "3a297f4b-de81-4033-af42-2d9c9ce7f726",
   "metadata": {},
   "source": [
    "Some of the popular languages that Data Scientists use are:\n",
    "\n",
    "Python,\n",
    "R,\n",
    "SQL,\n",
    "Java,\n",
    "Julia,\n",
    "Scala,\n",
    "C/C++,\n",
    "JavaScript."
   ]
  },
  {
   "cell_type": "markdown",
   "id": "17c06e86-1c2b-4c68-bca0-5e4852f8b93e",
   "metadata": {},
   "source": [
    "Some of the commonly used libraries used by Data Scientists include:\n",
    "\n",
    "TensorFlow,\n",
    "NumPy,\n",
    "SciPy,\n",
    "Pandas,\n",
    "Matplotlib,\n",
    "Keras,\n",
    "SciKit-Learn,\n",
    "PyTorch,\n",
    "Scrapy,\n",
    "BeautifulSoup,\n",
    "LightGBM,\n",
    "ELI5,\n",
    "Theano,\n",
    "NuPIC,\n",
    "Ramp,\n",
    "Pipenv,\n",
    "Bob,\n",
    "PyBrain,\n",
    "Caffe2,\n",
    "Chainer.\n"
   ]
  },
  {
   "cell_type": "markdown",
   "id": "de8b9d27-c501-4868-8992-fd47aaac5cc3",
   "metadata": {},
   "source": [
    "Data Science Tools:\n",
    "\n",
    "Data Science Tools\t\t\n",
    "SAS. It is one of those data science tools which are specifically designed for statistical operation.\t\n",
    "Apache Spark,\t\t\n",
    "BigML."
   ]
  },
  {
   "cell_type": "markdown",
   "id": "97c428a9-00f5-436f-b39f-bd31e51100fc",
   "metadata": {},
   "source": [
    "Below are a few examples of evaluating arithmetic expressions in Python\n"
   ]
  },
  {
   "cell_type": "code",
   "execution_count": 1,
   "id": "1e9f9913-f6e7-40f7-879d-b00dc5314e75",
   "metadata": {},
   "outputs": [
    {
     "data": {
      "text/plain": [
       "9"
      ]
     },
     "execution_count": 1,
     "metadata": {},
     "output_type": "execute_result"
    }
   ],
   "source": [
    "code = compile(\"5 + 4\", \"<string>\", \"eval\")\n",
    "eval(code)\n",
    "# Result: 9"
   ]
  },
  {
   "cell_type": "code",
   "execution_count": 2,
   "id": "caa93a05-6443-4d16-9b65-1d187794dc05",
   "metadata": {},
   "outputs": [
    {
     "data": {
      "text/plain": [
       "24"
      ]
     },
     "execution_count": 2,
     "metadata": {},
     "output_type": "execute_result"
    }
   ],
   "source": [
    "code1 = compile(\"(5 + 7) * 2\", \"<string>\", \"eval\")\n",
    "eval(code1)\n",
    "# Result: 24"
   ]
  },
  {
   "cell_type": "code",
   "execution_count": 3,
   "id": "a62e0e7b-cb14-49f9-af90-f7fbf4c48fc3",
   "metadata": {},
   "outputs": [
    {
     "data": {
      "text/plain": [
       "65449.84694978735"
      ]
     },
     "execution_count": 3,
     "metadata": {},
     "output_type": "execute_result"
    }
   ],
   "source": [
    "import math\n",
    "# Volume of a sphere\n",
    "code2 = compile(\"4 / 3 * math.pi * math.pow(25, 3)\", \"<string>\", \"eval\")\n",
    "eval(code2)\n",
    "# Result: 65449.84694978735"
   ]
  },
  {
   "cell_type": "markdown",
   "id": "3532db22-dcaa-4b59-be6e-a81f57e30d2e",
   "metadata": {},
   "source": [
    "This a simple arithmetic expression to mutiply then add integers"
   ]
  },
  {
   "cell_type": "code",
   "execution_count": 4,
   "id": "68a0801b-e54a-444b-9665-50818935892e",
   "metadata": {},
   "outputs": [
    {
     "data": {
      "text/plain": [
       "17"
      ]
     },
     "execution_count": 4,
     "metadata": {},
     "output_type": "execute_result"
    }
   ],
   "source": [
    "(3*4)+5\n",
    "# Result: 17"
   ]
  },
  {
   "cell_type": "markdown",
   "id": "f460b0c5-0a13-436c-9b8e-30d2a032d814",
   "metadata": {},
   "source": [
    "This will convert 200 minutes to hours by diving by 60"
   ]
  },
  {
   "cell_type": "code",
   "execution_count": 5,
   "id": "1ad34dfa-920e-4e20-a3db-375f6c956dbe",
   "metadata": {},
   "outputs": [
    {
     "name": "stdout",
     "output_type": "stream",
     "text": [
      "0 days, 3.3333333333333335 hours, 0 mins. \n"
     ]
    }
   ],
   "source": [
    "days = 0\n",
    "hours = 0\n",
    "mins = 0\n",
    "\n",
    "time = 200\n",
    "#days = time / 1440\n",
    "leftover_minutes = time % 1440\n",
    "hours = leftover_minutes / 60\n",
    "#mins = time - (days*1440) - (hours*60)\n",
    "print(str(days) + \" days, \" + str(hours) + \" hours, \" + str(mins) +  \" mins. \")\n",
    "\n",
    "# Result: 3.3333333333333335 hours"
   ]
  },
  {
   "cell_type": "markdown",
   "id": "12cb020b-17d1-4117-b832-2a67f6aca69d",
   "metadata": {},
   "source": [
    "OBJECTIVES:\n",
    "\n",
    "- List popular languages that Data Scientists use.\n",
    "- List commonly used libraries used by Data Scientists.\n",
    "- Comment on Data Science tools."
   ]
  },
  {
   "cell_type": "markdown",
   "id": "7e3403fc-bb03-4eda-834a-ee93095e147d",
   "metadata": {},
   "source": [
    "AUTHOR NAME:\n",
    "ABINAYA S"
   ]
  },
  {
   "cell_type": "code",
   "execution_count": null,
   "id": "3fba36ce-0374-488d-873f-1a812580cf1b",
   "metadata": {},
   "outputs": [],
   "source": []
  }
 ],
 "metadata": {
  "kernelspec": {
   "display_name": "Python 3 (ipykernel)",
   "language": "python",
   "name": "python3"
  },
  "language_info": {
   "codemirror_mode": {
    "name": "ipython",
    "version": 3
   },
   "file_extension": ".py",
   "mimetype": "text/x-python",
   "name": "python",
   "nbconvert_exporter": "python",
   "pygments_lexer": "ipython3",
   "version": "3.12.4"
  }
 },
 "nbformat": 4,
 "nbformat_minor": 5
}
